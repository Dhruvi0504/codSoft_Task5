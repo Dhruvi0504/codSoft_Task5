{
 "cells": [
  {
   "cell_type": "code",
   "execution_count": null,
   "id": "74ec8ea9-01c4-463e-a082-daab3fc0e6e6",
   "metadata": {},
   "outputs": [],
   "source": [
    "#TASK 5\n",
    "# HANDWRITTEN TEXT GENERATION"
   ]
  },
  {
   "cell_type": "code",
   "execution_count": 14,
   "id": "1766159b-319d-4db4-a848-070804775b8f",
   "metadata": {},
   "outputs": [],
   "source": [
    "import pandas as pd\n",
    "import random\n",
    "import sys\n",
    "from tensorflow.keras.models import Sequential\n",
    "from tensorflow.keras.layers import LSTM, Dense, Embedding\n",
    "from tensorflow.keras.callbacks import LambdaCallback"
   ]
  },
  {
   "cell_type": "code",
   "execution_count": 2,
   "id": "d8bc5930-5df7-4fa2-bae5-ad3e17d098c6",
   "metadata": {},
   "outputs": [
    {
     "data": {
      "text/html": [
       "<div>\n",
       "<style scoped>\n",
       "    .dataframe tbody tr th:only-of-type {\n",
       "        vertical-align: middle;\n",
       "    }\n",
       "\n",
       "    .dataframe tbody tr th {\n",
       "        vertical-align: top;\n",
       "    }\n",
       "\n",
       "    .dataframe thead th {\n",
       "        text-align: right;\n",
       "    }\n",
       "</style>\n",
       "<table border=\"1\" class=\"dataframe\">\n",
       "  <thead>\n",
       "    <tr style=\"text-align: right;\">\n",
       "      <th></th>\n",
       "      <th>text</th>\n",
       "      <th>label</th>\n",
       "      <th>prompt_name</th>\n",
       "      <th>source</th>\n",
       "      <th>RDizzl3_seven</th>\n",
       "    </tr>\n",
       "  </thead>\n",
       "  <tbody>\n",
       "    <tr>\n",
       "      <th>0</th>\n",
       "      <td>The Electoral College is a complex system that...</td>\n",
       "      <td>1</td>\n",
       "      <td>Does the electoral college work?</td>\n",
       "      <td>gemini_pro</td>\n",
       "      <td>True</td>\n",
       "    </tr>\n",
       "    <tr>\n",
       "      <th>1</th>\n",
       "      <td>The exploration of Venus, Earth's closest plan...</td>\n",
       "      <td>1</td>\n",
       "      <td>Exploring Venus</td>\n",
       "      <td>gemini_pro</td>\n",
       "      <td>True</td>\n",
       "    </tr>\n",
       "    <tr>\n",
       "      <th>2</th>\n",
       "      <td>## Does the Electoral College Work?\\n\\nThe Ele...</td>\n",
       "      <td>1</td>\n",
       "      <td>Does the electoral college work?</td>\n",
       "      <td>gemini_pro</td>\n",
       "      <td>True</td>\n",
       "    </tr>\n",
       "    <tr>\n",
       "      <th>3</th>\n",
       "      <td>In the vast realm of literature, there exists ...</td>\n",
       "      <td>1</td>\n",
       "      <td>\"A Cowboy Who Rode the Waves\"</td>\n",
       "      <td>gemini_pro</td>\n",
       "      <td>True</td>\n",
       "    </tr>\n",
       "    <tr>\n",
       "      <th>4</th>\n",
       "      <td>In the realm of modern transportation, the adv...</td>\n",
       "      <td>1</td>\n",
       "      <td>Driverless cars</td>\n",
       "      <td>gemini_pro</td>\n",
       "      <td>True</td>\n",
       "    </tr>\n",
       "    <tr>\n",
       "      <th>...</th>\n",
       "      <td>...</td>\n",
       "      <td>...</td>\n",
       "      <td>...</td>\n",
       "      <td>...</td>\n",
       "      <td>...</td>\n",
       "    </tr>\n",
       "    <tr>\n",
       "      <th>3495</th>\n",
       "      <td>The Electoral College, a distinctive feature o...</td>\n",
       "      <td>1</td>\n",
       "      <td>Does the electoral college work?</td>\n",
       "      <td>gemini_pro</td>\n",
       "      <td>True</td>\n",
       "    </tr>\n",
       "    <tr>\n",
       "      <th>3496</th>\n",
       "      <td>The Electoral College is a system of indirect ...</td>\n",
       "      <td>1</td>\n",
       "      <td>Does the electoral college work?</td>\n",
       "      <td>gemini_pro</td>\n",
       "      <td>True</td>\n",
       "    </tr>\n",
       "    <tr>\n",
       "      <th>3497</th>\n",
       "      <td>The electoral College, an integral part of the...</td>\n",
       "      <td>1</td>\n",
       "      <td>Does the electoral college work?</td>\n",
       "      <td>gemini_pro</td>\n",
       "      <td>True</td>\n",
       "    </tr>\n",
       "    <tr>\n",
       "      <th>3498</th>\n",
       "      <td>The Electoral College, a distinctive feature o...</td>\n",
       "      <td>1</td>\n",
       "      <td>Does the electoral college work?</td>\n",
       "      <td>gemini_pro</td>\n",
       "      <td>True</td>\n",
       "    </tr>\n",
       "    <tr>\n",
       "      <th>3499</th>\n",
       "      <td>Title: Does the Electoral College Work? Examin...</td>\n",
       "      <td>1</td>\n",
       "      <td>Does the electoral college work?</td>\n",
       "      <td>gemini_pro</td>\n",
       "      <td>True</td>\n",
       "    </tr>\n",
       "  </tbody>\n",
       "</table>\n",
       "<p>3500 rows × 5 columns</p>\n",
       "</div>"
      ],
      "text/plain": [
       "                                                   text  label  \\\n",
       "0     The Electoral College is a complex system that...      1   \n",
       "1     The exploration of Venus, Earth's closest plan...      1   \n",
       "2     ## Does the Electoral College Work?\\n\\nThe Ele...      1   \n",
       "3     In the vast realm of literature, there exists ...      1   \n",
       "4     In the realm of modern transportation, the adv...      1   \n",
       "...                                                 ...    ...   \n",
       "3495  The Electoral College, a distinctive feature o...      1   \n",
       "3496  The Electoral College is a system of indirect ...      1   \n",
       "3497  The electoral College, an integral part of the...      1   \n",
       "3498  The Electoral College, a distinctive feature o...      1   \n",
       "3499  Title: Does the Electoral College Work? Examin...      1   \n",
       "\n",
       "                           prompt_name      source  RDizzl3_seven  \n",
       "0     Does the electoral college work?  gemini_pro           True  \n",
       "1                      Exploring Venus  gemini_pro           True  \n",
       "2     Does the electoral college work?  gemini_pro           True  \n",
       "3        \"A Cowboy Who Rode the Waves\"  gemini_pro           True  \n",
       "4                      Driverless cars  gemini_pro           True  \n",
       "...                                ...         ...            ...  \n",
       "3495  Does the electoral college work?  gemini_pro           True  \n",
       "3496  Does the electoral college work?  gemini_pro           True  \n",
       "3497  Does the electoral college work?  gemini_pro           True  \n",
       "3498  Does the electoral college work?  gemini_pro           True  \n",
       "3499  Does the electoral college work?  gemini_pro           True  \n",
       "\n",
       "[3500 rows x 5 columns]"
      ]
     },
     "execution_count": 2,
     "metadata": {},
     "output_type": "execute_result"
    }
   ],
   "source": [
    "# Load and preprocess the dataset\n",
    "data = pd.read_csv('E:/Dhruvi Desktop Files/Internship and Course Certificate/PDF_ML_CodSoft_ML/train_essays_v1.csv')\n",
    "data"
   ]
  },
  {
   "cell_type": "code",
   "execution_count": 5,
   "id": "33519dc6-49b5-47be-9f1f-fa0651941941",
   "metadata": {},
   "outputs": [
    {
     "data": {
      "text/plain": [
       "'The Electoral College is a complex system that has been in place since the founding of the United States. It is a system that has both advantages and disadvantages. On the one hand, it ensures that every state has a say in who becomes President, regardless of population. On the other hand, it can lead to situations where a candidate who wins the popular vote does not win the Presidency, as happened in 2016.\\n\\nThere are a number of arguments in favor of the Electoral College. One argument is that it helps to protect the rights of minority groups. In a direct popular vote, it is possible for a candidate to win by a landslide in a few large states, while losing by narrow margins in many smaller states. This could lead to a situation where the President is elected by a minority of the population. The Electoral College, on the other hand, ensures that every state has a say in the election, regardless of its size.\\n\\nAnother argument in favor of the Electoral College is that it encourages candi'"
      ]
     },
     "execution_count": 5,
     "metadata": {},
     "output_type": "execute_result"
    }
   ],
   "source": [
    "text = ''.join(data['text'].astype(str).tolist())[:1000]  # Limit to first 1 million characters for example\n",
    "text"
   ]
  },
  {
   "cell_type": "code",
   "execution_count": 6,
   "id": "ff1bd1d1-2ba0-4f1c-a423-6425e899e88c",
   "metadata": {},
   "outputs": [],
   "source": [
    "# Create character mappings\n",
    "chars = sorted(list(set(text)))\n",
    "char_indices = {char: i for i, char in enumerate(chars)}\n",
    "indices_char = {i: char for i, char in enumerate(chars)}"
   ]
  },
  {
   "cell_type": "code",
   "execution_count": 7,
   "id": "aac9169f-f331-442c-8ec1-3a471f355d36",
   "metadata": {},
   "outputs": [],
   "source": [
    "# Length of extracted character sequences\n",
    "maxlen = 40\n",
    "step = 3\n",
    "\n",
    "# Generate sequences and their corresponding next characters\n",
    "sentences = []\n",
    "next_chars = []\n",
    "for i in range(0, len(text) - maxlen, step):\n",
    "    sentences.append(text[i: i + maxlen])\n",
    "    next_chars.append(text[i + maxlen])"
   ]
  },
  {
   "cell_type": "code",
   "execution_count": 12,
   "id": "b7dd91df-851f-48d8-9430-f6ba8284ab82",
   "metadata": {
    "scrolled": true
   },
   "outputs": [],
   "source": [
    "# Vectorize sequences into input and output\n",
    "import tensorflow as tf\n",
    "x = []\n",
    "y = []\n",
    "for i, sentence in enumerate(sentences):\n",
    "    x.append([char_indices[char] for char in sentence])\n",
    "    y.append(char_indices[next_chars[i]])\n",
    "\n",
    "# Convert x and y to TensorFlow/Keras compatible format\n",
    "x = tf.keras.preprocessing.sequence.pad_sequences(x, maxlen=maxlen, padding='pre')\n",
    "y = tf.keras.utils.to_categorical(y, num_classes=len(chars))\n"
   ]
  },
  {
   "cell_type": "code",
   "execution_count": 15,
   "id": "5a1fc00d-bfd0-4384-bc88-b642489f3fad",
   "metadata": {},
   "outputs": [
    {
     "name": "stderr",
     "output_type": "stream",
     "text": [
      "C:\\Users\\DHRUVI\\anaconda3\\Lib\\site-packages\\keras\\src\\layers\\core\\embedding.py:86: UserWarning: Argument `input_length` is deprecated. Just remove it.\n",
      "  warnings.warn(\n"
     ]
    }
   ],
   "source": [
    "# Build the RNN model\n",
    "model = Sequential([\n",
    "    Embedding(len(chars), 50, input_length=maxlen),\n",
    "    LSTM(128),\n",
    "    Dense(len(chars), activation='softmax')\n",
    "])\n",
    "\n",
    "model.compile(loss='categorical_crossentropy', optimizer='adam')"
   ]
  },
  {
   "cell_type": "code",
   "execution_count": 16,
   "id": "06bb937a-eedf-48a6-a852-fb0922a9f1e4",
   "metadata": {},
   "outputs": [],
   "source": [
    "# Function to sample next character based on the model's prediction\n",
    "def sample(preds, temperature=1.0):\n",
    "    preds = tf.squeeze(preds).numpy()\n",
    "    preds = np.log(preds) / temperature\n",
    "    exp_preds = np.exp(preds)\n",
    "    preds = exp_preds / np.sum(exp_preds)\n",
    "    probas = np.random.multinomial(1, preds, 1)\n",
    "    return np.argmax(probas)"
   ]
  },
  {
   "cell_type": "code",
   "execution_count": 17,
   "id": "47b899a5-c9bd-4bab-ba5c-fced0daa38ca",
   "metadata": {},
   "outputs": [],
   "source": [
    "# Function to generate text using the trained model\n",
    "def generate_text(seed_text, length=400, temperature=1.0):\n",
    "    generated = seed_text\n",
    "    sys.stdout.write(generated)\n",
    "    \n",
    "    for _ in range(length):\n",
    "        x_pred = [[char_indices[char] for char in seed_text]]\n",
    "        x_pred = tf.keras.preprocessing.sequence.pad_sequences(x_pred, maxlen=maxlen, padding='pre')\n",
    "        \n",
    "        preds = model.predict(x_pred, verbose=0)[0]\n",
    "        next_index = sample(preds, temperature)\n",
    "        next_char = indices_char[next_index]\n",
    "        \n",
    "        seed_text = seed_text[1:] + next_char\n",
    "        \n",
    "        sys.stdout.write(next_char)\n",
    "        sys.stdout.flush()\n",
    "    print()"
   ]
  },
  {
   "cell_type": "code",
   "execution_count": 20,
   "id": "864d1001-0c1a-41c7-a209-5c1a12870256",
   "metadata": {},
   "outputs": [
    {
     "data": {
      "text/plain": [
       "<keras.src.callbacks.lambda_callback.LambdaCallback at 0x28b2b3683d0>"
      ]
     },
     "execution_count": 20,
     "metadata": {},
     "output_type": "execute_result"
    }
   ],
   "source": [
    "# Callback to generate text at the end of each epoch\n",
    "import numpy as np\n",
    "def on_epoch_end(epoch, _):\n",
    "    print(f'\\nGenerating text after epoch {epoch + 1}:')\n",
    "    start_index = random.randint(0, len(text) - maxlen - 1)\n",
    "    seed_text = text[start_index: start_index + maxlen]\n",
    "    generate_text(seed_text)\n",
    "\n",
    "# Train the model\n",
    "print_callback = LambdaCallback(on_epoch_end=on_epoch_end)\n",
    "print_callback"
   ]
  },
  {
   "cell_type": "code",
   "execution_count": 22,
   "id": "5bf91b3f-27af-4de3-9c81-6bd09d5de6a9",
   "metadata": {},
   "outputs": [
    {
     "name": "stdout",
     "output_type": "stream",
     "text": [
      "Epoch 1/5\n",
      "\u001b[1m2/3\u001b[0m \u001b[32m━━━━━━━━━━━━━\u001b[0m\u001b[37m━━━━━━━\u001b[0m \u001b[1m0s\u001b[0m 63ms/step - loss: 3.2525\n",
      "Generating text after epoch 1:\n",
      "s that every state has a say in who becoo 1ao fatzn yoSetaoetotettAs a ttaztotCaaototso eten erCa  egd gtgt i aa O e tC adtz a oo z erh ttan. et o aer o1     tidvtc0nli ionag tt Claa  t1  tmAam c t astgt et n   ea lo,t w  Ce oxv   e ml attaxa  eC Ur a t  1 tte St U  yuzs a tal aeta.y itpTtnenseCpxs 2tsmiit cto  ,ht  ee  tgIyatIez e mtaE alt ttl gA g o6fdogt0 yasdxc tarta auen  aSa md atra l g nbe2calaCho o y0taot  deiraett yoteayetp.tta\n",
      "\u001b[1m3/3\u001b[0m \u001b[32m━━━━━━━━━━━━━━━━━━━━\u001b[0m\u001b[37m\u001b[0m \u001b[1m23s\u001b[0m 12s/step - loss: 3.2199\n",
      "Epoch 2/5\n",
      "\u001b[1m3/3\u001b[0m \u001b[32m━━━━━━━━━━━━━━━━━━━━\u001b[0m\u001b[37m\u001b[0m \u001b[1m0s\u001b[0m 31ms/step - loss: 3.0378\n",
      "Generating text after epoch 2:\n",
      "ion, regardless of its size.\n",
      "\n",
      "Another ar b vd ee   fny xo  eUaaoEtea tena t ezay i r fmtrt.en n gt.ewa nttnpen  e e tzcty ai  vandodnaleCoieorhig\n",
      " vtcae ,edCaeced e  daea e  abeeeatebeneean0ocaat theo   ei  eneaax Ae tts og  ao et  tar te yaeSerdlao   sa g  t e,tat , n Pnvyt xn  a  rttef g  tte  matt p oa eanAcme   attphn cgt  ae oxtns f  aaf  t w nodUa  own c  ao2esbhfIoylade oeg ttv.e ahattet   g tlf cnl  t xearis eet oeetnaItt reoz e\n",
      "\u001b[1m3/3\u001b[0m \u001b[32m━━━━━━━━━━━━━━━━━━━━\u001b[0m\u001b[37m\u001b[0m \u001b[1m24s\u001b[0m 12s/step - loss: 3.0489\n",
      "Epoch 3/5\n",
      "\u001b[1m3/3\u001b[0m \u001b[32m━━━━━━━━━━━━━━━━━━━━\u001b[0m\u001b[37m\u001b[0m \u001b[1m0s\u001b[0m 32ms/step - loss: 3.0383\n",
      "Generating text after epoch 3:\n",
      "s that every state has a say in the elecCooiesnd0on se u tIaaonc Or ta1se rsdEe penadgr lrrdyeCeaeaun  rire2t fei,nesx gwasa tbdaaIntv gieanaeenllTprIyatthansoate ac0ptc ra arEsiEonsthirathodaltni ez isaenihintsedlt C eegg,anitelcaa adei erc  tiEEamlIea, ostst  o gg Cota istovv.  eEwU ia,gie tgn fe a e  cdo htgs CcIv  is.,Sei  h sn, vtlil, ee netgaamtid agh lls rl laeeex tr  wtEySyglt iemegoxenebzagodoent geaUCnttased owneawr xt6lcbaead\n",
      "\u001b[1m3/3\u001b[0m \u001b[32m━━━━━━━━━━━━━━━━━━━━\u001b[0m\u001b[37m\u001b[0m \u001b[1m23s\u001b[0m 12s/step - loss: 3.0335\n",
      "Epoch 4/5\n",
      "\u001b[1m3/3\u001b[0m \u001b[32m━━━━━━━━━━━━━━━━━━━━\u001b[0m\u001b[37m\u001b[0m \u001b[1m0s\u001b[0m 34ms/step - loss: 2.9997\n",
      "Generating text after epoch 4:\n",
      "em that has both advantages and disadvane iaaaAiaSewwno mraad, s o6,eSci, oa nc bnar elat.tdd ddxAd oU rrEeelza g 1 cgoye iregnrhtenticoetscneatg og ezaa g ttaoetazo tnavaoaltcosdoscs  igsee ,ei u eriasistas   aasxEtag  e.ai pEa tp1chtCaniefvtonafcm .  oci  e tnsgead onaei. eoecseartse0 ntvsylezhotC tra rPog zhb  ol6retn ertl  gesvn gaarggeiho dssgee   gf tzgffhho iri  dne wtilsd.snTiso nee oIasgn0ieory n   a pesiure,snacd   detar ela ,\n",
      "\u001b[1m3/3\u001b[0m \u001b[32m━━━━━━━━━━━━━━━━━━━━\u001b[0m\u001b[37m\u001b[0m \u001b[1m24s\u001b[0m 12s/step - loss: 2.9930\n",
      "Epoch 5/5\n",
      "\u001b[1m3/3\u001b[0m \u001b[32m━━━━━━━━━━━━━━━━━━━━\u001b[0m\u001b[37m\u001b[0m \u001b[1m0s\u001b[0m 38ms/step - loss: 2.9846\n",
      "Generating text after epoch 5:\n",
      "6.\n",
      "\n",
      "There are a number of arguments in f e dwtsC e oanaetn g2aAad ar grz.wbr  y o.ooe d1dIygtoactetUeeiiyggf.rtteEoe ,fcaoi ssestw oaor ia nl soh   sgsA tbogrbhg,rtimgo.oeiolrgdza  iasr.aenr tEhttlnpntenrr ws daeahe owUsr ed0thsl letfigea  r2ffyaA mt ieef  gCgaiahm iyiers  ae rritnogdadrnrisiotc2ttatlnsthzsto rizy s,Inotinwlr ndc asxn mrsrart Tole odsCses ertoira 0enogtfrSpdetPrmgweueayipe tgg   aee r wes pUz ssprAilssaeo6awgna el psras\n",
      "\u001b[1m3/3\u001b[0m \u001b[32m━━━━━━━━━━━━━━━━━━━━\u001b[0m\u001b[37m\u001b[0m \u001b[1m24s\u001b[0m 12s/step - loss: 2.9798\n"
     ]
    },
    {
     "data": {
      "text/plain": [
       "<keras.src.callbacks.history.History at 0x28b30a201d0>"
      ]
     },
     "execution_count": 22,
     "metadata": {},
     "output_type": "execute_result"
    }
   ],
   "source": [
    "model.fit(x, y, batch_size=128, epochs=5, callbacks=[print_callback])"
   ]
  },
  {
   "cell_type": "code",
   "execution_count": 23,
   "id": "8a81832b-b8a9-42c5-9053-ab3b05e21010",
   "metadata": {},
   "outputs": [
    {
     "name": "stdout",
     "output_type": "stream",
     "text": [
      "\n",
      "Generating final text:\n"
     ]
    },
    {
     "data": {
      "text/plain": [
       "850"
      ]
     },
     "execution_count": 23,
     "metadata": {},
     "output_type": "execute_result"
    }
   ],
   "source": [
    "# Generate text after training\n",
    "print('\\nGenerating final text:')\n",
    "start_index = random.randint(0, len(text) - maxlen - 1)\n",
    "start_index"
   ]
  },
  {
   "cell_type": "code",
   "execution_count": 24,
   "id": "3bcdebc1-b4d6-470d-a829-e2771fee1bf3",
   "metadata": {},
   "outputs": [
    {
     "name": "stdout",
     "output_type": "stream",
     "text": [
      "es that every state has a say in the eleUe1gcrpeetatr slr.saes iaoysl cw  i vd gr nt stEabeeen irrtodrytdrl1tt E   mi e .alitw s  soihiiot   cbooTrlcae .st r i gliisn rfrsyai agUgTvgas6animsslsrdrwg.taydUrapa ansige ggweh.igA.t.eareg ae treiwenm swisne,dtegdo eay  lfsgdeahen gshhe atsoeglgtotnstIes6\n",
      " iheocgsh ePtmovat EvgdnC ohinsni    s6aeoesnisyizi nteysettsnggealsalUiclotetna xa  igtt   relsEar arPoniit bstc1anat s dieUafmyiaw tc glS\n"
     ]
    }
   ],
   "source": [
    "seed_text = text[start_index: start_index + maxlen]\n",
    "generate_text(seed_text)"
   ]
  },
  {
   "cell_type": "code",
   "execution_count": null,
   "id": "6721411b-03db-4cd3-9735-9210cc05a338",
   "metadata": {},
   "outputs": [],
   "source": []
  }
 ],
 "metadata": {
  "kernelspec": {
   "display_name": "Python 3 (ipykernel)",
   "language": "python",
   "name": "python3"
  },
  "language_info": {
   "codemirror_mode": {
    "name": "ipython",
    "version": 3
   },
   "file_extension": ".py",
   "mimetype": "text/x-python",
   "name": "python",
   "nbconvert_exporter": "python",
   "pygments_lexer": "ipython3",
   "version": "3.11.5"
  }
 },
 "nbformat": 4,
 "nbformat_minor": 5
}
